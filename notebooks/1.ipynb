{
 "cells": [
  {
   "cell_type": "code",
   "execution_count": 1,
   "id": "3f028f61",
   "metadata": {},
   "outputs": [
    {
     "name": "stdout",
     "output_type": "stream",
     "text": [
      "Requirement already satisfied: pandas in c:\\users\\harshdeep singh\\anaconda3\\lib\\site-packages (2.2.2)\n",
      "Requirement already satisfied: scikit-learn in c:\\users\\harshdeep singh\\anaconda3\\lib\\site-packages (1.4.2)\n",
      "Requirement already satisfied: imbalanced-learn in c:\\users\\harshdeep singh\\anaconda3\\lib\\site-packages (0.12.3)\n",
      "Requirement already satisfied: opendatasets in c:\\users\\harshdeep singh\\anaconda3\\lib\\site-packages (0.1.22)\n",
      "Requirement already satisfied: langdetect in c:\\users\\harshdeep singh\\anaconda3\\lib\\site-packages (1.0.9)\n",
      "Requirement already satisfied: requests in c:\\users\\harshdeep singh\\anaconda3\\lib\\site-packages (2.32.2)\n",
      "Requirement already satisfied: numpy>=1.26.0 in c:\\users\\harshdeep singh\\anaconda3\\lib\\site-packages (from pandas) (1.26.4)\n",
      "Requirement already satisfied: python-dateutil>=2.8.2 in c:\\users\\harshdeep singh\\anaconda3\\lib\\site-packages (from pandas) (2.9.0.post0)\n",
      "Requirement already satisfied: pytz>=2020.1 in c:\\users\\harshdeep singh\\anaconda3\\lib\\site-packages (from pandas) (2024.1)\n",
      "Requirement already satisfied: tzdata>=2022.7 in c:\\users\\harshdeep singh\\anaconda3\\lib\\site-packages (from pandas) (2023.3)\n",
      "Requirement already satisfied: scipy>=1.6.0 in c:\\users\\harshdeep singh\\anaconda3\\lib\\site-packages (from scikit-learn) (1.13.1)\n",
      "Requirement already satisfied: joblib>=1.2.0 in c:\\users\\harshdeep singh\\anaconda3\\lib\\site-packages (from scikit-learn) (1.4.2)\n",
      "Requirement already satisfied: threadpoolctl>=2.0.0 in c:\\users\\harshdeep singh\\anaconda3\\lib\\site-packages (from scikit-learn) (2.2.0)\n",
      "Requirement already satisfied: tqdm in c:\\users\\harshdeep singh\\anaconda3\\lib\\site-packages (from opendatasets) (4.66.4)\n",
      "Requirement already satisfied: kaggle in c:\\users\\harshdeep singh\\anaconda3\\lib\\site-packages (from opendatasets) (1.7.4.5)\n",
      "Requirement already satisfied: click in c:\\users\\harshdeep singh\\anaconda3\\lib\\site-packages (from opendatasets) (8.1.7)\n",
      "Requirement already satisfied: six in c:\\users\\harshdeep singh\\anaconda3\\lib\\site-packages (from langdetect) (1.16.0)\n",
      "Requirement already satisfied: charset-normalizer<4,>=2 in c:\\users\\harshdeep singh\\anaconda3\\lib\\site-packages (from requests) (2.0.4)\n",
      "Requirement already satisfied: idna<4,>=2.5 in c:\\users\\harshdeep singh\\anaconda3\\lib\\site-packages (from requests) (3.7)\n",
      "Requirement already satisfied: urllib3<3,>=1.21.1 in c:\\users\\harshdeep singh\\anaconda3\\lib\\site-packages (from requests) (2.2.2)\n",
      "Requirement already satisfied: certifi>=2017.4.17 in c:\\users\\harshdeep singh\\anaconda3\\lib\\site-packages (from requests) (2024.7.4)\n",
      "Requirement already satisfied: colorama in c:\\users\\harshdeep singh\\anaconda3\\lib\\site-packages (from click->opendatasets) (0.4.6)\n",
      "Requirement already satisfied: bleach in c:\\users\\harshdeep singh\\anaconda3\\lib\\site-packages (from kaggle->opendatasets) (4.1.0)\n",
      "Requirement already satisfied: protobuf in c:\\users\\harshdeep singh\\anaconda3\\lib\\site-packages (from kaggle->opendatasets) (3.20.3)\n",
      "Requirement already satisfied: python-slugify in c:\\users\\harshdeep singh\\anaconda3\\lib\\site-packages (from kaggle->opendatasets) (5.0.2)\n",
      "Requirement already satisfied: setuptools>=21.0.0 in c:\\users\\harshdeep singh\\anaconda3\\lib\\site-packages (from kaggle->opendatasets) (75.6.0)\n",
      "Requirement already satisfied: text-unidecode in c:\\users\\harshdeep singh\\anaconda3\\lib\\site-packages (from kaggle->opendatasets) (1.3)\n",
      "Requirement already satisfied: webencodings in c:\\users\\harshdeep singh\\anaconda3\\lib\\site-packages (from kaggle->opendatasets) (0.5.1)\n",
      "Requirement already satisfied: packaging in c:\\users\\harshdeep singh\\anaconda3\\lib\\site-packages (from bleach->kaggle->opendatasets) (23.2)\n"
     ]
    },
    {
     "name": "stderr",
     "output_type": "stream",
     "text": [
      "\n",
      "[notice] A new release of pip is available: 24.3.1 -> 25.1.1\n",
      "[notice] To update, run: python.exe -m pip install --upgrade pip\n"
     ]
    }
   ],
   "source": [
    "!pip install pandas scikit-learn imbalanced-learn opendatasets langdetect requests\n"
   ]
  },
  {
   "cell_type": "code",
   "execution_count": 2,
   "id": "d2290cf5",
   "metadata": {},
   "outputs": [
    {
     "name": "stdout",
     "output_type": "stream",
     "text": [
      "Dataset URL: https://www.kaggle.com/datasets/ankushbisht005/udemy-courses-data-2023\n",
      "Downloading udemy-courses-data-2023.zip to ../data/raw\\udemy-courses-data-2023\n"
     ]
    },
    {
     "name": "stderr",
     "output_type": "stream",
     "text": [
      "100%|██████████| 8.08M/8.08M [00:00<00:00, 902MB/s]"
     ]
    },
    {
     "name": "stdout",
     "output_type": "stream",
     "text": [
      "\n",
      "Dataset URL: https://www.kaggle.com/datasets/khusheekapoor/edx-courses-dataset-2021\n"
     ]
    },
    {
     "name": "stderr",
     "output_type": "stream",
     "text": [
      "\n"
     ]
    },
    {
     "name": "stdout",
     "output_type": "stream",
     "text": [
      "Downloading edx-courses-dataset-2021.zip to ../data/raw\\edx-courses-dataset-2021\n"
     ]
    },
    {
     "name": "stderr",
     "output_type": "stream",
     "text": [
      "100%|██████████| 364k/364k [00:00<00:00, 372MB/s]"
     ]
    },
    {
     "name": "stdout",
     "output_type": "stream",
     "text": [
      "\n",
      "Dataset URL: https://www.kaggle.com/datasets/santoshapatil31/edx-all-courses-3082-courses\n"
     ]
    },
    {
     "name": "stderr",
     "output_type": "stream",
     "text": [
      "\n"
     ]
    },
    {
     "name": "stdout",
     "output_type": "stream",
     "text": [
      "Downloading edx-all-courses-3082-courses.zip to ../data/raw\\edx-all-courses-3082-courses\n"
     ]
    },
    {
     "name": "stderr",
     "output_type": "stream",
     "text": [
      "100%|██████████| 270k/270k [00:00<00:00, 138MB/s]"
     ]
    },
    {
     "name": "stdout",
     "output_type": "stream",
     "text": [
      "\n",
      "Dataset URL: https://www.kaggle.com/datasets/everydaycodings/multi-platform-online-courses-dataset\n"
     ]
    },
    {
     "name": "stderr",
     "output_type": "stream",
     "text": [
      "\n"
     ]
    },
    {
     "name": "stdout",
     "output_type": "stream",
     "text": [
      "Downloading multi-platform-online-courses-dataset.zip to ../data/raw\\multi-platform-online-courses-dataset\n"
     ]
    },
    {
     "name": "stderr",
     "output_type": "stream",
     "text": [
      "100%|██████████| 2.81M/2.81M [00:00<00:00, 473MB/s]"
     ]
    },
    {
     "name": "stdout",
     "output_type": "stream",
     "text": [
      "\n",
      "✅ Datasets downloaded to '../data/raw/'\n"
     ]
    },
    {
     "name": "stderr",
     "output_type": "stream",
     "text": [
      "\n"
     ]
    }
   ],
   "source": [
    "import os\n",
    "import opendatasets as od\n",
    "import shutil\n",
    "\n",
    "# Move kaggle.json to the expected location\n",
    "os.makedirs(os.path.expanduser(\"~/.kaggle\"), exist_ok=True)\n",
    "shutil.copy(\"kaggle.json\", os.path.expanduser(\"~/.kaggle/kaggle.json\"))\n",
    "os.chmod(os.path.expanduser(\"~/.kaggle/kaggle.json\"), 0o600)\n",
    "\n",
    "# Dataset URLs\n",
    "urls = [\n",
    "    \"https://www.kaggle.com/datasets/ankushbisht005/udemy-courses-data-2023\",\n",
    "    \"https://www.kaggle.com/datasets/khusheekapoor/edx-courses-dataset-2021\",\n",
    "    \"https://www.kaggle.com/datasets/santoshapatil31/edx-all-courses-3082-courses\",\n",
    "    \"https://www.kaggle.com/datasets/everydaycodings/multi-platform-online-courses-dataset\"\n",
    "]\n",
    "\n",
    "# Set output folder\n",
    "output_dir = \"../data/raw\"\n",
    "os.makedirs(output_dir, exist_ok=True)\n",
    "\n",
    "# Download each dataset\n",
    "for url in urls:\n",
    "    od.download(url, data_dir=output_dir)\n",
    "\n",
    "print(\"✅ Datasets downloaded to '../data/raw/'\")\n"
   ]
  },
  {
   "cell_type": "code",
   "execution_count": 6,
   "id": "d4dbf05d",
   "metadata": {},
   "outputs": [
    {
     "name": "stdout",
     "output_type": "stream",
     "text": [
      "🔢 Dataset Sizes:\n",
      "Udemy: 82798 | EdX 2021: 719 | EdX 3082: 3065 | Multi: 784\n"
     ]
    }
   ],
   "source": [
    "import pandas as pd\n",
    "import os\n",
    "\n",
    "RAW_DIR = \"../data/raw\"\n",
    "\n",
    "def std(df, title_col, desc_col=None):\n",
    "    df = df.rename(columns={title_col: \"course_title\"})\n",
    "    df[\"skills\"] = df.get(desc_col, \"\").fillna(\"\") if desc_col else \"\"\n",
    "    return df[[\"course_title\", \"skills\"]].dropna().drop_duplicates()\n",
    "\n",
    "# ✅ Corrected paths to match your directory structure\n",
    "df_u = pd.read_csv(f\"{RAW_DIR}/udemy-courses-data-2023/courses.csv\")\n",
    "df_e1 = pd.read_csv(f\"{RAW_DIR}/edx-courses-dataset-2021/EdX.csv\")\n",
    "df_e2 = pd.read_csv(f\"{RAW_DIR}/edx-all-courses-3082-courses/All_edx_courses_catalog.csv\")\n",
    "df_m_raw = pd.read_csv(f\"{RAW_DIR}/multi-platform-online-courses-dataset/edx.csv\")\n",
    "\n",
    "# Detect column names for multi-platform dataset\n",
    "tcol = \"course_title\" if \"course_title\" in df_m_raw.columns else df_m_raw.columns[0]\n",
    "dcol = df_m_raw.columns[1] if len(df_m_raw.columns) > 1 else None\n",
    "\n",
    "# Standardize all\n",
    "df_u = std(df_u, \"title\")\n",
    "df_e1 = std(df_e1, \"Name\", \"Course Description\")\n",
    "df_e2 = std(df_e2, \"course_name\", \"course_subtitle\")\n",
    "df_m = std(df_m_raw, tcol, dcol)\n",
    "\n",
    "print(\"🔢 Dataset Sizes:\")\n",
    "print(f\"Udemy: {len(df_u)} | EdX 2021: {len(df_e1)} | EdX 3082: {len(df_e2)} | Multi: {len(df_m)}\")\n"
   ]
  },
  {
   "cell_type": "code",
   "execution_count": 23,
   "id": "d47f010a",
   "metadata": {},
   "outputs": [],
   "source": [
    "def map_job_role(text):\n",
    "    t = text.lower()\n",
    "\n",
    "    # --- Data Analyst ---\n",
    "    if any(x in t for x in [\n",
    "        \"excel\", \"power bi\", \"sql\", \"tableau\", \"analytics\", \"data visualization\", \"data analyst\", \n",
    "        \"business intelligence\", \"dashboards\", \"reporting\", \"descriptive statistics\", \"lookml\", \"mode\", \"metabase\"\n",
    "    ]): return \"Data Analyst\"\n",
    "\n",
    "    # --- ML Engineer ---\n",
    "    if any(x in t for x in [\n",
    "        \"machine learning\", \"deep learning\", \"tensorflow\", \"pytorch\", \"ml\", \"ai\", \"xgboost\", \n",
    "        \"lightgbm\", \"scikit-learn\", \"model deployment\", \"mlops\", \"huggingface\", \"transformers\", \"neural networks\"\n",
    "    ]): return \"ML Engineer\"\n",
    "\n",
    "    # --- Data Scientist ---\n",
    "    if any(x in t for x in [\n",
    "        \"data science\", \"eda\", \"regression\", \"clustering\", \"classification\", \"data wrangling\",\n",
    "        \"feature engineering\", \"statistical modeling\", \"nlp\", \"k-means\", \"time series\", \"monte carlo\", \n",
    "        \"hypothesis testing\", \"bayesian\", \"data storytelling\"\n",
    "    ]): return \"Data Scientist\"\n",
    "\n",
    "    # --- Data Engineer ---\n",
    "    if any(x in t for x in [\n",
    "        \"data engineer\", \"etl\", \"airflow\", \"kafka\", \"spark\", \"hadoop\", \"big data\", \n",
    "        \"data pipeline\", \"databricks\", \"redshift\", \"dwh\", \"snowflake\", \"lakehouse\", \"data ingestion\"\n",
    "    ]): return \"Data Engineer\"\n",
    "\n",
    "    # --- Backend Developer ---\n",
    "    if any(x in t for x in [\n",
    "        \"backend\", \"flask\", \"django\", \"spring\", \"node\", \"express\", \"api\", \"rest api\", \n",
    "        \"grpc\", \"microservice\", \"server\", \"java\", \"php\", \"ruby on rails\", \"authentication\", \n",
    "        \"postgres\", \"mysql\", \"sqlalchemy\", \"orm\", \"typeorm\", \"backend logic\"\n",
    "    ]): return \"Backend Developer\"\n",
    "\n",
    "    # --- Frontend Developer ---\n",
    "    if any(x in t for x in [\n",
    "        \"frontend\", \"react\", \"html\", \"css\", \"javascript\", \"typescript\", \"vue\", \"angular\", \n",
    "        \"ui\", \"ux\", \"redux\", \"tailwind\", \"web development\", \"next.js\", \"svelte\", \n",
    "        \"dom manipulation\", \"client side\", \"component\", \"responsive\"\n",
    "    ]): return \"Frontend Developer\"\n",
    "\n",
    "    # --- Full Stack Developer ---\n",
    "    if any(x in t for x in [\n",
    "        \"full stack\", \"mern\", \"mean\", \"mevn\", \"frontend and backend\", \"react and node\", \n",
    "        \"end-to-end app\", \"web app development\", \"complete web developer\"\n",
    "    ]): return \"Full Stack Developer\"\n",
    "\n",
    "    # --- Cloud Engineer ---\n",
    "    if any(x in t for x in [\n",
    "        \"cloud\", \"aws\", \"azure\", \"gcp\", \"cloud computing\", \"cloud architect\", \n",
    "        \"lambda\", \"ec2\", \"s3\", \"cloudformation\", \"kubernetes\", \"terraform\", \n",
    "        \"cloud security\", \"cloud networking\", \"devops on cloud\"\n",
    "    ]): return \"Cloud Engineer\"\n",
    "\n",
    "    # --- DevOps Engineer ---\n",
    "    if any(x in t for x in [\n",
    "        \"devops\", \"cicd\", \"jenkins\", \"docker\", \"kubernetes\", \"terraform\", \"ansible\", \n",
    "        \"infrastructure as code\", \"monitoring\", \"grafana\", \"prometheus\", \"helm\", \"deployment automation\"\n",
    "    ]): return \"DevOps Engineer\"\n",
    "\n",
    "    # --- Cybersecurity Analyst ---\n",
    "    if any(x in t for x in [\n",
    "        \"cybersecurity\", \"ethical hacking\", \"penetration testing\", \"network security\", \n",
    "        \"information security\", \"cryptography\", \"security analyst\", \"malware\", \n",
    "        \"firewall\", \"threat detection\", \"vulnerability\", \"security audit\"\n",
    "    ]): return \"Cybersecurity Analyst\"\n",
    "\n",
    "    # --- Mobile App Developer ---\n",
    "    if any(x in t for x in [\n",
    "        \"android\", \"ios\", \"mobile app\", \"flutter\", \"kotlin\", \"swift\", \"react native\", \n",
    "        \"mobile development\", \"app store\", \"play store\"\n",
    "    ]): return \"Mobile App Developer\"\n",
    "\n",
    "    # --- UI/UX Designer ---\n",
    "    if any(x in t for x in [\n",
    "        \"ui design\", \"ux design\", \"figma\", \"adobe xd\", \"user experience\", \n",
    "        \"user interface\", \"prototyping\", \"wireframing\", \"design thinking\", \"usability testing\"\n",
    "    ]): return \"UI/UX Designer\"\n",
    "\n",
    "    return None\n"
   ]
  },
  {
   "cell_type": "code",
   "execution_count": 21,
   "id": "e21712ba",
   "metadata": {},
   "outputs": [
    {
     "name": "stdout",
     "output_type": "stream",
     "text": [
      "\n",
      "📊 Udemy Role Counts:\n",
      "job_role\n",
      "Frontend Developer       8100\n",
      "ML Engineer              7910\n",
      "Data Analyst             5664\n",
      "Backend Developer        4423\n",
      "Cloud Engineer           1260\n",
      "Mobile App Developer      719\n",
      "Data Scientist            560\n",
      "Cybersecurity Analyst     413\n",
      "Data Engineer             353\n",
      "DevOps Engineer           240\n",
      "UI/UX Designer            132\n",
      "Full Stack Developer       56\n",
      "Name: count, dtype: int64\n",
      "\n",
      "📊 EdX‑2021 Role Counts:\n",
      "job_role\n",
      "ML Engineer              70\n",
      "Data Analyst             39\n",
      "Backend Developer        19\n",
      "Data Scientist           17\n",
      "Frontend Developer       17\n",
      "UI/UX Designer            6\n",
      "Cybersecurity Analyst     6\n",
      "Cloud Engineer            6\n",
      "DevOps Engineer           3\n",
      "Data Engineer             3\n",
      "Mobile App Developer      2\n",
      "Name: count, dtype: int64\n",
      "\n",
      "📊 EdX‑3082 Role Counts:\n",
      "job_role\n",
      "ML Engineer              221\n",
      "Data Analyst             160\n",
      "Backend Developer        137\n",
      "Frontend Developer        98\n",
      "Mobile App Developer      36\n",
      "Data Scientist            34\n",
      "Data Engineer             23\n",
      "Cloud Engineer            19\n",
      "Cybersecurity Analyst     18\n",
      "UI/UX Designer            10\n",
      "DevOps Engineer            6\n",
      "Full Stack Developer       4\n",
      "Name: count, dtype: int64\n",
      "\n",
      "📊 Multi‑Platform Role Counts:\n",
      "job_role\n",
      "ML Engineer              77\n",
      "Data Analyst             38\n",
      "Frontend Developer       35\n",
      "Backend Developer        32\n",
      "Data Scientist           14\n",
      "Cloud Engineer           10\n",
      "Mobile App Developer      9\n",
      "Cybersecurity Analyst     8\n",
      "Data Engineer             7\n",
      "DevOps Engineer           4\n",
      "UI/UX Designer            3\n",
      "Full Stack Developer      1\n",
      "Name: count, dtype: int64\n",
      "\n",
      "✅ Final Combined Dataset Shape: (31022, 3)\n",
      "\n",
      "📢 Overall Role Distribution:\n",
      " job_role\n",
      "ML Engineer              8278\n",
      "Frontend Developer       8250\n",
      "Data Analyst             5901\n",
      "Backend Developer        4611\n",
      "Cloud Engineer           1295\n",
      "Mobile App Developer      766\n",
      "Data Scientist            625\n",
      "Cybersecurity Analyst     445\n",
      "Data Engineer             386\n",
      "DevOps Engineer           253\n",
      "UI/UX Designer            151\n",
      "Full Stack Developer       61\n",
      "Name: count, dtype: int64\n"
     ]
    }
   ],
   "source": [
    "for df, name in zip([df_u, df_e1, df_e2, df_m], [\"Udemy\", \"EdX‑2021\", \"EdX‑3082\", \"Multi‑Platform\"]):\n",
    "    df[\"job_role\"] = df[\"course_title\"].apply(map_job_role)\n",
    "    print(f\"\\n📊 {name} Role Counts:\\n{df['job_role'].value_counts()}\")\n",
    "\n",
    "df_all = pd.concat([df_u, df_e1, df_e2, df_m], ignore_index=True)\n",
    "df_all = df_all.dropna(subset=[\"job_role\"])\n",
    "\n",
    "print(f\"\\n✅ Final Combined Dataset Shape: {df_all.shape}\")\n",
    "print(\"\\n📢 Overall Role Distribution:\\n\", df_all[\"job_role\"].value_counts())\n",
    "\n",
    "df_all.to_csv(\"../data/preprocessed/courses_all_labeled.csv\", index=False)\n"
   ]
  },
  {
   "cell_type": "code",
   "execution_count": 22,
   "id": "e6470605",
   "metadata": {},
   "outputs": [
    {
     "name": "stdout",
     "output_type": "stream",
     "text": [
      "✅ English-only dataset shape: (24904, 3)\n"
     ]
    }
   ],
   "source": [
    "from langdetect import detect\n",
    "\n",
    "def is_english(text):\n",
    "    try:\n",
    "        return detect(text) == \"en\"\n",
    "    except:\n",
    "        return False\n",
    "\n",
    "df_all = df_all[df_all['course_title'].apply(is_english)].reset_index(drop=True)\n",
    "print(\"✅ English-only dataset shape:\", df_all.shape)\n"
   ]
  },
  {
   "cell_type": "code",
   "execution_count": 24,
   "id": "6159e19f",
   "metadata": {},
   "outputs": [
    {
     "name": "stdout",
     "output_type": "stream",
     "text": [
      "👤 Users DataFrame Shape: (3000, 2)\n"
     ]
    }
   ],
   "source": [
    "from collections import defaultdict\n",
    "import random\n",
    "\n",
    "role_to_courses = defaultdict(list)\n",
    "for _, row in df_all.iterrows():\n",
    "    role_to_courses[row[\"job_role\"]].append(row[\"course_title\"])\n",
    "\n",
    "users = []\n",
    "n_users = 3000\n",
    "job_roles = list(role_to_courses.keys())\n",
    "\n",
    "for _ in range(n_users):\n",
    "    role = random.choice(job_roles)\n",
    "    role_courses = role_to_courses[role]\n",
    "\n",
    "    n_courses = random.randint(3, 10)\n",
    "    n_main = int(n_courses * random.uniform(0.8, 1.0))\n",
    "    n_noise = n_courses - n_main\n",
    "\n",
    "    main_courses = random.sample(role_courses, min(n_main, len(role_courses)))\n",
    "    noise_courses = [random.choice(role_to_courses[random.choice([r for r in job_roles if r != role])]) for _ in range(n_noise)]\n",
    "\n",
    "    search_history = main_courses + noise_courses\n",
    "    random.shuffle(search_history)\n",
    "\n",
    "    users.append({\"search_history\": \" | \".join(search_history), \"job_role\": role})\n",
    "\n",
    "df_users = pd.DataFrame(users)\n",
    "print(\"👤 Users DataFrame Shape:\", df_users.shape)\n",
    "\n",
    "df_users.to_csv(\"../data/preprocessed/users_labeled.csv\", index=False)\n"
   ]
  },
  {
   "cell_type": "code",
   "execution_count": 27,
   "id": "0e64fd74",
   "metadata": {},
   "outputs": [
    {
     "data": {
      "text/plain": [
       "'DevOps For Beginners: Saving Your Code From The Apocalypse | Learn DevOps from the Scratch for Absolute Beginners | PRTG Network Monitoring Course with LAB | Data Engineering for Beginner using Google Cloud & Python | DevOps Project: CICD with Git GitLab Jenkins  and Laravel | ELASTIC 8: Monitoring with Elasticsearch, Kibana, Beats, APM | Introduction to Jenkins… | Jenkins Unlocked: 4-In-One'"
      ]
     },
     "execution_count": 27,
     "metadata": {},
     "output_type": "execute_result"
    }
   ],
   "source": [
    "users=pd.read_csv(\"../data/preprocessed/users_labeled.csv\")\n",
    "users['search_history'][0]"
   ]
  },
  {
   "cell_type": "code",
   "execution_count": 28,
   "id": "37f15ae0",
   "metadata": {},
   "outputs": [
    {
     "name": "stdout",
     "output_type": "stream",
     "text": [
      "✅ Trained Logistic Regression\n",
      "✅ Trained Random Forest\n",
      "✅ Trained Naive Bayes\n",
      "✅ Trained SVC\n"
     ]
    }
   ],
   "source": [
    "from sklearn.feature_extraction.text import TfidfVectorizer\n",
    "from sklearn.model_selection import train_test_split\n",
    "from imblearn.over_sampling import SMOTE\n",
    "from sklearn.linear_model import LogisticRegression\n",
    "from sklearn.ensemble import RandomForestClassifier\n",
    "from sklearn.naive_bayes import MultinomialNB\n",
    "from sklearn.svm import SVC\n",
    "import joblib\n",
    "\n",
    "vectorizer = TfidfVectorizer(max_features=500, stop_words='english')\n",
    "X = vectorizer.fit_transform(df_users[\"search_history\"])\n",
    "y = df_users[\"job_role\"]\n",
    "\n",
    "X_train, X_test, y_train, y_test = train_test_split(X, y, test_size=0.2, stratify=y, random_state=42)\n",
    "X_train_sm, y_train_sm = SMOTE(random_state=42).fit_resample(X_train, y_train)\n",
    "\n",
    "models = {\n",
    "    \"Logistic Regression\": LogisticRegression(max_iter=1000),\n",
    "    \"Random Forest\": RandomForestClassifier(),\n",
    "    \"Naive Bayes\": MultinomialNB(),\n",
    "    \"SVC\": SVC(probability=True)\n",
    "}\n",
    "\n",
    "trained_models = {}\n",
    "for name, model in models.items():\n",
    "    model.fit(X_train_sm, y_train_sm)\n",
    "    trained_models[name] = model\n",
    "    print(f\"✅ Trained {name}\")\n",
    "\n",
    "joblib.dump(vectorizer, \"../models/vectorizer.pkl\")\n",
    "for name, model in trained_models.items():\n",
    "    joblib.dump(model, f\"../models/{name.replace(' ', '_').lower()}.pkl\")\n"
   ]
  },
  {
   "cell_type": "code",
   "execution_count": 29,
   "id": "afabc2f0",
   "metadata": {},
   "outputs": [
    {
     "name": "stdout",
     "output_type": "stream",
     "text": [
      "📊 Evaluation on Test Set (Individual Models)\n",
      "\n",
      "🔍 Logistic Regression\n",
      "Accuracy: 0.9683333333333334\n",
      "                       precision    recall  f1-score   support\n",
      "\n",
      "    Backend Developer       0.98      0.93      0.95        45\n",
      "       Cloud Engineer       0.96      0.98      0.97        46\n",
      "Cybersecurity Analyst       1.00      0.96      0.98        49\n",
      "         Data Analyst       0.96      1.00      0.98        52\n",
      "        Data Engineer       1.00      0.98      0.99        51\n",
      "       Data Scientist       0.98      1.00      0.99        54\n",
      "      DevOps Engineer       0.94      0.98      0.96        48\n",
      "   Frontend Developer       0.96      0.96      0.96        53\n",
      " Full Stack Developer       0.98      0.98      0.98        48\n",
      "          ML Engineer       0.94      0.88      0.91        56\n",
      " Mobile App Developer       0.96      0.98      0.97        46\n",
      "       UI/UX Designer       0.96      1.00      0.98        52\n",
      "\n",
      "             accuracy                           0.97       600\n",
      "            macro avg       0.97      0.97      0.97       600\n",
      "         weighted avg       0.97      0.97      0.97       600\n",
      "\n",
      "\n",
      "🔍 Random Forest\n",
      "Accuracy: 0.93\n",
      "                       precision    recall  f1-score   support\n",
      "\n",
      "    Backend Developer       0.95      0.82      0.88        45\n",
      "       Cloud Engineer       0.90      0.96      0.93        46\n",
      "Cybersecurity Analyst       0.94      0.92      0.93        49\n",
      "         Data Analyst       0.96      0.90      0.93        52\n",
      "        Data Engineer       0.98      0.98      0.98        51\n",
      "       Data Scientist       0.94      0.93      0.93        54\n",
      "      DevOps Engineer       0.96      0.94      0.95        48\n",
      "   Frontend Developer       0.91      0.92      0.92        53\n",
      " Full Stack Developer       0.88      0.96      0.92        48\n",
      "          ML Engineer       0.87      0.86      0.86        56\n",
      " Mobile App Developer       0.92      1.00      0.96        46\n",
      "       UI/UX Designer       0.96      0.98      0.97        52\n",
      "\n",
      "             accuracy                           0.93       600\n",
      "            macro avg       0.93      0.93      0.93       600\n",
      "         weighted avg       0.93      0.93      0.93       600\n",
      "\n",
      "\n",
      "🔍 Naive Bayes\n",
      "Accuracy: 0.96\n",
      "                       precision    recall  f1-score   support\n",
      "\n",
      "    Backend Developer       0.98      0.91      0.94        45\n",
      "       Cloud Engineer       0.94      1.00      0.97        46\n",
      "Cybersecurity Analyst       0.98      0.98      0.98        49\n",
      "         Data Analyst       0.95      1.00      0.97        52\n",
      "        Data Engineer       1.00      0.98      0.99        51\n",
      "       Data Scientist       0.93      1.00      0.96        54\n",
      "      DevOps Engineer       0.88      0.96      0.92        48\n",
      "   Frontend Developer       0.98      0.91      0.94        53\n",
      " Full Stack Developer       0.98      1.00      0.99        48\n",
      "          ML Engineer       1.00      0.82      0.90        56\n",
      " Mobile App Developer       0.94      0.98      0.96        46\n",
      "       UI/UX Designer       0.98      1.00      0.99        52\n",
      "\n",
      "             accuracy                           0.96       600\n",
      "            macro avg       0.96      0.96      0.96       600\n",
      "         weighted avg       0.96      0.96      0.96       600\n",
      "\n",
      "\n",
      "🔍 SVC\n",
      "Accuracy: 0.9716666666666667\n",
      "                       precision    recall  f1-score   support\n",
      "\n",
      "    Backend Developer       1.00      0.93      0.97        45\n",
      "       Cloud Engineer       1.00      0.98      0.99        46\n",
      "Cybersecurity Analyst       1.00      0.98      0.99        49\n",
      "         Data Analyst       0.95      1.00      0.97        52\n",
      "        Data Engineer       1.00      1.00      1.00        51\n",
      "       Data Scientist       0.98      1.00      0.99        54\n",
      "      DevOps Engineer       0.96      0.98      0.97        48\n",
      "   Frontend Developer       0.96      0.96      0.96        53\n",
      " Full Stack Developer       0.98      0.98      0.98        48\n",
      "          ML Engineer       0.91      0.89      0.90        56\n",
      " Mobile App Developer       0.98      0.96      0.97        46\n",
      "       UI/UX Designer       0.96      1.00      0.98        52\n",
      "\n",
      "             accuracy                           0.97       600\n",
      "            macro avg       0.97      0.97      0.97       600\n",
      "         weighted avg       0.97      0.97      0.97       600\n",
      "\n"
     ]
    }
   ],
   "source": [
    "from sklearn.metrics import accuracy_score, classification_report\n",
    "\n",
    "print(\"📊 Evaluation on Test Set (Individual Models)\")\n",
    "for name, model in trained_models.items():\n",
    "    y_pred = model.predict(X_test)\n",
    "    print(f\"\\n🔍 {name}\")\n",
    "    print(\"Accuracy:\", accuracy_score(y_test, y_pred))\n",
    "    print(classification_report(y_test, y_pred))\n"
   ]
  },
  {
   "cell_type": "code",
   "execution_count": 30,
   "id": "adcd242e",
   "metadata": {},
   "outputs": [
    {
     "name": "stdout",
     "output_type": "stream",
     "text": [
      "✅ Trained and saved stacked model\n"
     ]
    }
   ],
   "source": [
    "from sklearn.ensemble import StackingClassifier\n",
    "\n",
    "stacked_model = StackingClassifier(\n",
    "    estimators=[\n",
    "        ('lr', LogisticRegression(max_iter=1000)),\n",
    "        ('rf', RandomForestClassifier()),\n",
    "        ('nb', MultinomialNB()),\n",
    "        ('svc', SVC(probability=True))\n",
    "    ],\n",
    "    final_estimator=LogisticRegression(max_iter=1000),\n",
    "    passthrough=True\n",
    ")\n",
    "\n",
    "stacked_model.fit(X_train, y_train)\n",
    "joblib.dump(stacked_model, \"../models/stacked_model.pkl\")\n",
    "print(\"✅ Trained and saved stacked model\")\n"
   ]
  },
  {
   "cell_type": "code",
   "execution_count": 31,
   "id": "2c3ce7c9",
   "metadata": {},
   "outputs": [
    {
     "name": "stdout",
     "output_type": "stream",
     "text": [
      "\n",
      "🤖 Stacked Ensemble Model Evaluation\n",
      "Accuracy: 0.97\n",
      "Classification Report:\n",
      "                        precision    recall  f1-score   support\n",
      "\n",
      "    Backend Developer       1.00      0.89      0.94        45\n",
      "       Cloud Engineer       0.98      0.98      0.98        46\n",
      "Cybersecurity Analyst       1.00      0.96      0.98        49\n",
      "         Data Analyst       0.95      1.00      0.97        52\n",
      "        Data Engineer       1.00      1.00      1.00        51\n",
      "       Data Scientist       0.98      1.00      0.99        54\n",
      "      DevOps Engineer       0.96      0.98      0.97        48\n",
      "   Frontend Developer       0.94      0.96      0.95        53\n",
      " Full Stack Developer       0.98      0.98      0.98        48\n",
      "          ML Engineer       0.93      0.91      0.92        56\n",
      " Mobile App Developer       0.98      0.98      0.98        46\n",
      "       UI/UX Designer       0.96      1.00      0.98        52\n",
      "\n",
      "             accuracy                           0.97       600\n",
      "            macro avg       0.97      0.97      0.97       600\n",
      "         weighted avg       0.97      0.97      0.97       600\n",
      "\n"
     ]
    }
   ],
   "source": [
    "y_pred_stack = stacked_model.predict(X_test)\n",
    "\n",
    "print(\"\\n🤖 Stacked Ensemble Model Evaluation\")\n",
    "print(\"Accuracy:\", accuracy_score(y_test, y_pred_stack))\n",
    "print(\"Classification Report:\\n\", classification_report(y_test, y_pred_stack))\n"
   ]
  },
  {
   "cell_type": "code",
   "execution_count": 32,
   "id": "8ed9868c",
   "metadata": {},
   "outputs": [
    {
     "data": {
      "image/png": "[encoded data removed]",
      "text/plain": [
       "<Figure size 1000x500 with 1 Axes>"
      ]
     },
     "metadata": {},
     "output_type": "display_data"
    }
   ],
   "source": [
    "import matplotlib.pyplot as plt\n",
    "import seaborn as sns\n",
    "\n",
    "sns.set(style=\"whitegrid\")\n",
    "plt.figure(figsize=(10, 5))\n",
    "sns.countplot(x=y_pred_stack)\n",
    "plt.title(\"Predicted Job Role Distribution - Stacked Model\")\n",
    "plt.xticks(rotation=45)\n",
    "plt.show()\n"
   ]
  },
  {
   "cell_type": "code",
   "execution_count": 33,
   "id": "81ff3404",
   "metadata": {},
   "outputs": [
    {
     "name": "stdout",
     "output_type": "stream",
     "text": [
      "\n",
      "🧾 Search History:\n",
      "Power BI Dashboards | SQL for Data Analysts | Excel Automation | Tableau for Business Intelligence\n",
      "🎯 Predicted Role: Data Analyst\n",
      "💡 You might also be interested in: ML Engineer\n",
      "\n",
      "🧾 Search History:\n",
      "Frontend with React | Advanced CSS Animations | JavaScript | Node.js | Git\n",
      "🎯 Predicted Role: Backend Developer\n",
      "💡 You might also be interested in: ML Engineer\n",
      "\n",
      "🧾 Search History:\n",
      "AWS IAM & S3 | Azure | DevOps CI/CD | Java | Cybersecurity\n",
      "🎯 Predicted Role: Cloud Engineer\n",
      "💡 You might also be interested in: Backend Developer\n",
      "\n",
      "🧾 Search History:\n",
      "Kali Linux Penetration Testing | Network Security | Ethical Hacking | React UI\n",
      "🎯 Predicted Role: Cybersecurity Analyst\n",
      "💡 You might also be interested in: ML Engineer\n",
      "\n",
      "🧾 Search History:\n",
      "Deep Learning with PyTorch | Neural Networks | AI for Robotics | Machine Learning\n",
      "🎯 Predicted Role: ML Engineer\n",
      "💡 You might also be interested in: Backend Developer\n"
     ]
    }
   ],
   "source": [
    "import numpy as np\n",
    "\n",
    "sample_users = [\n",
    "    {\"search_history\": \"Power BI Dashboards | SQL for Data Analysts | Excel Automation | Tableau for Business Intelligence\"},\n",
    "    {\"search_history\": \"Frontend with React | Advanced CSS Animations | JavaScript | Node.js | Git\"},\n",
    "    {\"search_history\": \"AWS IAM & S3 | Azure | DevOps CI/CD | Java | Cybersecurity\"},\n",
    "    {\"search_history\": \"Kali Linux Penetration Testing | Network Security | Ethical Hacking | React UI\"},\n",
    "    {\"search_history\": \"Deep Learning with PyTorch | Neural Networks | AI for Robotics | Machine Learning\"}\n",
    "]\n",
    "\n",
    "df_samples = pd.DataFrame(sample_users)\n",
    "X_sample = vectorizer.transform(df_samples[\"search_history\"])\n",
    "y_pred = stacked_model.predict(X_sample)\n",
    "proba = stacked_model.predict_proba(X_sample)\n",
    "classes = stacked_model.classes_\n",
    "\n",
    "for i, row in enumerate(df_samples.itertuples()):\n",
    "    top_indices = proba[i].argsort()[::-1][:2]\n",
    "    top_roles = [classes[idx] for idx in top_indices]\n",
    "    print(f\"\\n🧾 Search History:\\n{row.search_history}\")\n",
    "    print(f\"🎯 Predicted Role: {top_roles[0]}\")\n",
    "    print(f\"💡 You might also be interested in: {top_roles[1]}\")\n"
   ]
  },
  {
   "cell_type": "code",
   "execution_count": 34,
   "id": "8767d5cb",
   "metadata": {},
   "outputs": [
    {
     "name": "stdout",
     "output_type": "stream",
     "text": [
      "\n",
      "🧾 Search History:\n",
      "Power BI Dashboards | SQL for Data Analysts | Excel Automation | Tableau for Business Intelligence\n",
      "🎯 Role: Data Analyst\n",
      "📚 Recommended Courses:\n",
      " - Business Intelligence con Excel e Power BI\n",
      " - Business Intelligence Analyst - Power BI ,Tableau\n",
      " - Data Analyst | Business Intelligence: Python,BI,Tableau,SQL\n",
      " - Data Analysis & Business Intelligence: SQL  MySQL Power BI\n",
      " - Business Intelligence and Automated Reports using Power BI\n",
      "\n",
      "🧾 Search History:\n",
      "Frontend with React | Advanced CSS Animations | JavaScript | Node.js | Git\n",
      "🎯 Role: Backend Developer\n",
      "📚 Recommended Courses:\n",
      " - Complete Next.js with React & Node - Beautiful Portfolio App\n",
      " - Stripe Masterclass With React.js & Node.js\n",
      " - Full Stack Development with React and Node Js\n",
      " - Full Stack Isomorphic JavaScript with Vue.js & Node.js\n",
      " - Fullstack JavaScript : Learn JavaScript,React ,Node,Mongo DB\n",
      "\n",
      "🧾 Search History:\n",
      "AWS IAM & S3 | Azure | DevOps CI/CD | Java | Cybersecurity\n",
      "🎯 Role: Cloud Engineer\n",
      "📚 Recommended Courses:\n",
      " - Azure DevOps - CI and CD\n",
      " - DevSecOps with Azure DevOps: Secure CI/CD with Azure DevOps\n",
      " - DevOps: CI/CD using AWS CodePipeline & Elastic Beanstalk\n",
      " - AWS CodePipeline: DevOps CI/CD Masterclass 2023\n",
      " - AWS DevOps : A CI/CD Masterclass 2022\n",
      "\n",
      "🧾 Search History:\n",
      "Kali Linux Penetration Testing | Network Security | Ethical Hacking | React UI\n",
      "🎯 Role: Cybersecurity Analyst\n",
      "📚 Recommended Courses:\n",
      " - Network Penetration Testing (Ethical Hacking) From Scratch\n",
      " - Wireless Network Hacking and Penetration Testing\n",
      " - Ethical Hacking & Penetration Testing with Metasploit\n",
      " - Penetration Testing Unveiled: Ethical Hacking & Pentesting\n",
      " - Ethical Hacking, Penetration Testing: Buffer Overflow\n",
      "\n",
      "🧾 Search History:\n",
      "Deep Learning with PyTorch | Neural Networks | AI for Robotics | Machine Learning\n",
      "🎯 Role: ML Engineer\n",
      "📚 Recommended Courses:\n",
      " - Deloitte's Course on AI, Machine Learning & Deep Learning\n",
      " - 2023 Machine Learning | Deep Learning | EDA | Vertex AI\n",
      " - Keras library for deep learning with Machine Learning\n",
      " - Machine Learning, incl. Deep Learning, with R\n",
      " - Machine Learning & Deep Learning in 30hrs\n"
     ]
    }
   ],
   "source": [
    "from sklearn.metrics.pairwise import cosine_similarity\n",
    "\n",
    "def recommend_similar_courses(search_text, role, n=5):\n",
    "    df_role = df_all[df_all[\"job_role\"] == role].drop_duplicates(subset=[\"course_title\"])\n",
    "    course_vecs = vectorizer.transform(df_role[\"course_title\"])\n",
    "    user_vec = vectorizer.transform([search_text])\n",
    "    similarities = cosine_similarity(user_vec, course_vecs).flatten()\n",
    "    top_idx = similarities.argsort()[::-1][:n]\n",
    "    return df_role.iloc[top_idx][\"course_title\"].tolist()\n",
    "\n",
    "for i, row in enumerate(df_samples.itertuples()):\n",
    "    courses = recommend_similar_courses(row.search_history, y_pred[i])\n",
    "    print(f\"\\n🧾 Search History:\\n{row.search_history}\")\n",
    "    print(f\"🎯 Role: {y_pred[i]}\")\n",
    "    print(\"📚 Recommended Courses:\")\n",
    "    for c in courses: print(\" -\", c)\n"
   ]
  },
  {
   "cell_type": "code",
   "execution_count": 37,
   "id": "1695062e",
   "metadata": {},
   "outputs": [
    {
     "name": "stdout",
     "output_type": "stream",
     "text": [
      "⚠️ No token — limited to 60 requests/hour\n",
      "\n",
      "📦 Top GitHub Repos for 'Data Analyst':\n",
      "🔹 dbt-labs/dbt-core | ⭐ 11081\n",
      "📄 dbt enables data analysts and engineers to transform their data using the same practices that software engineers use to build applications.\n",
      "🔗 https://github.com/dbt-labs/dbt-core\n",
      "\n",
      "🔹 GoogleCloudPlatform/training-data-analyst | ⭐ 8212\n",
      "📄 Labs and demos for courses for GCP Training (http://cloud.google.com/training).\n",
      "🔗 https://github.com/GoogleCloudPlatform/training-data-analyst\n",
      "\n",
      "🔹 amundsen-io/amundsen | ⭐ 4614\n",
      "📄 Amundsen is a metadata driven application for improving the productivity of data analysts, data scientists and engineers when interacting with data.\n",
      "🔗 https://github.com/amundsen-io/amundsen\n",
      "\n",
      "🔹 girls-in-ai/Girls-In-AI | ⭐ 3211\n",
      "📄 免费学代码系列：小白python入门、数据分析data analyst、机器学习machine learning、深度学习deep learning、kaggle实战\n",
      "🔗 https://github.com/girls-in-ai/Girls-In-AI\n",
      "\n",
      "🔹 weijie-chen/Linear-Algebra-With-Python | ⭐ 2444\n",
      "📄 Lecture Notes for Linear Algebra Featuring Python. This series of lecture notes will walk you through all the must-know concepts that set the foundation of data science or advanced quantitative skillsets. Suitable for statistician/econometrician, quantitative analysts, data scientists and etc. to quickly refresh the linear algebra with the assistance of Python computation and visualization.\n",
      "🔗 https://github.com/weijie-chen/Linear-Algebra-With-Python\n",
      "\n"
     ]
    }
   ],
   "source": [
    "import requests\n",
    "\n",
    "token = input(\"🔑 Enter your GitHub token (press Enter to skip): \").strip()\n",
    "headers = {\"Accept\": \"application/vnd.github+json\"}\n",
    "if token:\n",
    "    headers[\"Authorization\"] = f\"Bearer {token}\"\n",
    "    print(\"✅ Authenticated\")\n",
    "else:\n",
    "    print(\"⚠️ No token — limited to 60 requests/hour\")\n",
    "\n",
    "def search_github_repos(query, per_page=5):\n",
    "    url = \"https://api.github.com/search/repositories\"\n",
    "    params = {\"q\": query, \"sort\": \"stars\", \"order\": \"desc\", \"per_page\": per_page}\n",
    "    response = requests.get(url, headers=headers, params=params)\n",
    "    if response.status_code != 200:\n",
    "        print(f\"❌ Error: {response.status_code}\")\n",
    "        return []\n",
    "    return response.json()[\"items\"]\n",
    "\n",
    "query = f\"{y_pred[0]} in:name,description\"\n",
    "repos = search_github_repos(query)\n",
    "\n",
    "print(f\"\\n📦 Top GitHub Repos for '{y_pred[0]}':\")\n",
    "for r in repos:\n",
    "    print(f\"🔹 {r['full_name']} | ⭐ {r['stargazers_count']}\")\n",
    "    print(f\"📄 {r['description']}\")\n",
    "    print(f\"🔗 {r['html_url']}\\n\")\n"
   ]
  },
  {
   "cell_type": "code",
   "execution_count": 1,
   "id": "324afe6c",
   "metadata": {},
   "outputs": [
    {
     "name": "stdout",
     "output_type": "stream",
     "text": [
      "Note: you may need to restart the kernel to use updated packages.\n"
     ]
    }
   ],
   "source": [
    "pip freeze > requirements.txt\n"
   ]
  },
  {
   "cell_type": "code",
   "execution_count": 39,
   "id": "e2daab09",
   "metadata": {},
   "outputs": [
    {
     "name": "stdout",
     "output_type": "stream",
     "text": [
      "⚠️ No token — limited to 60 requests/hour\n",
      "\n",
      "📦 Top GitHub Repos for 'Data Analyst':\n",
      "🔹 fighting41love/funNLP | ⭐ 74748\n",
      "📄 中英文敏感词、语言检测、中外手机/电话归属地/运营商查询、名字推断性别、手机号抽取、身份证抽取、邮箱抽取、中日文人名库、中文缩写库、拆字词典、词汇情感值、停用词、反动词表、暴恐词表、繁简体转换、英文模拟中文发音、汪峰歌词生成器、职业名称词库、同义词库、反义词库、否定词库、汽车品牌词库、汽车零件词库、连续英文切割、各种中文词向量、公司名字大全、古诗词库、IT词库、财经词库、成语词库、地名词库、历史名...\n",
      "🔗 https://github.com/fighting41love/funNLP\n",
      "\n",
      "🔹 pandas-dev/pandas | ⭐ 45960\n",
      "📄 Flexible and powerful data analysis / manipulation library for Python, providing labeled data structures similar to R data.frame objects, statistical functions, and much more\n",
      "🔗 https://github.com/pandas-dev/pandas\n",
      "\n",
      "🔹 deepinsight/insightface | ⭐ 25843\n",
      "📄 State-of-the-art 2D and 3D Face Analysis Project\n",
      "🔗 https://github.com/deepinsight/insightface\n",
      "\n",
      "🔹 sinaptik-ai/pandas-ai | ⭐ 20897\n",
      "📄 Chat with your database or your datalake (SQL, CSV, parquet). PandasAI makes data analysis conversational using LLMs and RAG.\n",
      "🔗 https://github.com/sinaptik-ai/pandas-ai\n",
      "\n",
      "🔹 serengil/deepface | ⭐ 19670\n",
      "📄 A Lightweight Face Recognition and Facial Attribute Analysis (Age, Gender, Emotion and Race) Library for Python\n",
      "🔗 https://github.com/serengil/deepface\n",
      "\n"
     ]
    }
   ],
   "source": [
    "import requests\n",
    "\n",
    "# 🔑 GitHub token input\n",
    "token = input(\"🔑 Enter your GitHub token (press Enter to skip): \").strip()\n",
    "headers = {\"Accept\": \"application/vnd.github+json\"}\n",
    "if token:\n",
    "    headers[\"Authorization\"] = f\"Bearer {token}\"\n",
    "    print(\"✅ Authenticated\")\n",
    "else:\n",
    "    print(\"⚠️ No token — limited to 60 requests/hour\")\n",
    "\n",
    "# 🧠 Simulated model output\n",
    "y_pred = [\"Data Analyst\"]  # 🔁 Change as needed\n",
    "\n",
    "# 🎯 Queries for each role\n",
    "role_queries = {\n",
    "    \"Backend Developer\": \"rest-api OR springboot OR nodejs OR fastapi language:JavaScript\",\n",
    "    \"Cloud Engineer\": \"aws OR gcp OR azure OR cloud-computing OR terraform language:Python\",\n",
    "    \"Cybersecurity Analyst\": \"ethical-hacking OR pentest OR kali-linux OR cyber-security language:Python\",\n",
    "    \"Data Analyst\": \"powerbi OR tableau OR pandas OR 'data analysis' language:Python\",\n",
    "    \"Data Engineer\": \"data-pipeline OR airflow OR bigquery OR spark OR etl language:Python\",\n",
    "    \"Data Scientist\": \"scikit-learn OR pandas OR 'data science' OR seaborn OR xgboost language:Python\",\n",
    "    \"DevOps Engineer\": \"devops OR docker OR kubernetes OR ci/cd OR jenkins language:Python\",\n",
    "    \"Frontend Developer\": \"reactjs OR nextjs OR html5 OR tailwindcss language:JavaScript\",\n",
    "    \"Full Stack Developer\": \"mern OR react OR node OR express OR mongodb language:JavaScript\",\n",
    "    \"ML Engineer\": \"pytorch OR keras OR sklearn OR huggingface OR 'machine learning' language:Python\",\n",
    "    \"Mobile App Developer\": \"flutter OR react-native OR kotlin OR android OR swift language:Dart\",\n",
    "    \"UI/UX Designer\": \"figma OR design-system OR ui-kit OR frontend-design language:JavaScript\"\n",
    "}\n",
    "\n",
    "# 🔁 Optional fallback queries\n",
    "fallback_queries = {\n",
    "    \"Data Engineer\": \"spark OR kafka OR etl OR databricks OR airflow language:Python\",\n",
    "    \"UI/UX Designer\": \"web-design OR figma OR ux OR ui language:JavaScript\",\n",
    "    \"Mobile App Developer\": \"react-native OR ios-app OR android-dev OR expo language:Dart\",\n",
    "    \"ML Engineer\": \"transformers OR torch OR deep-learning OR fine-tuning language:Python\"\n",
    "}\n",
    "\n",
    "# 🔍 Get main query\n",
    "role = y_pred[0]\n",
    "query = role_queries.get(role, f\"{role} language:Python\")\n",
    "\n",
    "def search_github_repos(query, per_page=5):\n",
    "    url = \"https://api.github.com/search/repositories\"\n",
    "    params = {\"q\": query, \"sort\": \"stars\", \"order\": \"desc\", \"per_page\": per_page}\n",
    "    response = requests.get(url, headers=headers, params=params)\n",
    "    if response.status_code != 200:\n",
    "        print(f\"❌ Error {response.status_code}: {response.text}\")\n",
    "        return []\n",
    "    return response.json().get(\"items\", [])\n",
    "\n",
    "def clean(desc):\n",
    "    if not desc:\n",
    "        return \"No description.\"\n",
    "    return desc.replace('\\n', ' ')[:200] + (\"...\" if len(desc) > 200 else \"\")\n",
    "\n",
    "# 🔎 Try main query\n",
    "repos = search_github_repos(query)\n",
    "\n",
    "# 🧭 Use fallback if nothing relevant\n",
    "if not repos or sum(\"demo\" in (r.get(\"description\") or \"\").lower() for r in repos) > 3:\n",
    "    print(\"🔁 Using fallback query for better relevance...\")\n",
    "    fallback = fallback_queries.get(role)\n",
    "    if fallback:\n",
    "        repos = search_github_repos(fallback)\n",
    "\n",
    "# 📦 Display results\n",
    "print(f\"\\n📦 Top GitHub Repos for '{role}':\")\n",
    "if not repos:\n",
    "    print(\"⚠️ No repositories found.\")\n",
    "else:\n",
    "    for r in repos:\n",
    "        print(f\"🔹 {r['full_name']} | ⭐ {r['stargazers_count']}\")\n",
    "        print(f\"📄 {clean(r['description'])}\")\n",
    "        print(f\"🔗 {r['html_url']}\\n\")\n"
   ]
  },
  {
   "cell_type": "code",
   "execution_count": null,
   "id": "96ceba66",
   "metadata": {},
   "outputs": [],
   "source": []
  }
 ],
 "metadata": {
  "kernelspec": {
   "display_name": "base",
   "language": "python",
   "name": "python3"
  },
  "language_info": {
   "codemirror_mode": {
    "name": "ipython",
    "version": 3
   },
   "file_extension": ".py",
   "mimetype": "text/x-python",
   "name": "python",
   "nbconvert_exporter": "python",
   "pygments_lexer": "ipython3",
   "version": "3.12.4"
  }
 },
 "nbformat": 4,
 "nbformat_minor": 5
}
